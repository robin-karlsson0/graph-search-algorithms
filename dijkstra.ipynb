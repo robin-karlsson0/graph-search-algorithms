{
 "cells": [
  {
   "cell_type": "code",
   "execution_count": 1,
   "metadata": {},
   "outputs": [],
   "source": [
    "import numpy as np\n",
    "import matplotlib.pyplot as plt\n",
    "#import heapq"
   ]
  },
  {
   "cell_type": "markdown",
   "metadata": {},
   "source": [
    "### Adjacency matrix for grid"
   ]
  },
  {
   "cell_type": "code",
   "execution_count": 2,
   "metadata": {},
   "outputs": [
    {
     "data": {
      "image/png": "[encoded data removed]",
      "text/plain": [
       "<Figure size 432x288 with 1 Axes>"
      ]
     },
     "metadata": {
      "needs_background": "light"
     },
     "output_type": "display_data"
    }
   ],
   "source": [
    "def grid_adj_mat(I, J, connectivity=\"4\"):\n",
    "    '''Generates an adjacency matrix repesenting a grid.\n",
    "    \n",
    "    NOTE: Assumes 8-directional connections, and that the\n",
    "    grid origo is in the top-left corner.\n",
    "    \n",
    "    Args:\n",
    "        I (int): Row count\n",
    "        J (int): Col count \n",
    "        connectivity (str): Four- or eight-directional grid connectivity.\n",
    "    '''\n",
    "    # Number of elements\n",
    "    n = I * J\n",
    "    A = np.zeros((n, n), dtype=np.int8)\n",
    "    \n",
    "    diag_block = np.zeros((J, J), dtype=np.int8)\n",
    "    for idx in range(J-1):\n",
    "        diag_block[idx, idx+1] = 1\n",
    "        diag_block[idx+1, idx] = 1\n",
    "    \n",
    "    if connectivity == \"4\":\n",
    "        side_block = np.eye(J, dtype=np.int8)\n",
    "    elif connectivity == \"8\":\n",
    "        side_block = np.eye(J, dtype=np.int8) + diag_block\n",
    "    else:\n",
    "        raise Exception(\"Undefined connectivity\")\n",
    "    \n",
    "    # First block row\n",
    "    if I == 1:\n",
    "        A[0:J, 0:J] = diag_block\n",
    "    else:\n",
    "        A[0:J, 0:J] = diag_block\n",
    "        A[0:J, J:2*J] = side_block\n",
    "        \n",
    "        # Last block row\n",
    "        A[-1*J:, -2*J:-1*J] = side_block\n",
    "        A[-1*J:, -1*J:] = diag_block\n",
    "    \n",
    "    # Middle block rows\n",
    "    for idx in range(1,I-1):\n",
    "        i_start = idx*J\n",
    "        i_end = (idx+1)*J\n",
    "        A[i_start:i_end, (idx-1)*J:(idx+0)*J] = side_block\n",
    "        A[i_start:i_end, (idx+0)*J:(idx+1)*J] = diag_block\n",
    "        A[i_start:i_end, (idx+1)*J:(idx+2)*J] = side_block\n",
    "    \n",
    "    return A\n",
    "\n",
    "# Grid dimension\n",
    "I = 20\n",
    "J = 30\n",
    "A = grid_adj_mat(I, J, \"4\")\n",
    "plt.imshow(A)\n",
    "plt.show()"
   ]
  },
  {
   "cell_type": "code",
   "execution_count": 3,
   "metadata": {},
   "outputs": [],
   "source": [
    "def get_neighbor_nodes(node_idx, A):\n",
    "    '''Returns a list of node indices corresponing to neighbors of given node.\n",
    "    '''\n",
    "    return np.nonzero(A[node_idx, :])[0]"
   ]
  },
  {
   "cell_type": "code",
   "execution_count": 4,
   "metadata": {},
   "outputs": [
    {
     "name": "stdout",
     "output_type": "stream",
     "text": [
      "[[ 0.  0.  0. ...  0.  0.  0.]\n",
      " [ 0.  0. 10. ...  0.  0.  0.]\n",
      " [ 0.  0.  0. ...  0.  0.  0.]\n",
      " ...\n",
      " [ 0.  0.  0. ...  0.  0.  0.]\n",
      " [ 0.  0.  0. ...  0.  0.  0.]\n",
      " [ 0.  0.  0. ...  0.  0.  0.]]\n"
     ]
    }
   ],
   "source": [
    "def weighted_adj_matrix(A, W_dense):\n",
    "    '''Generates edge weights according to a dense cost map.\n",
    "    '''\n",
    "    \n",
    "    A_weights = np.zeros(A.shape)\n",
    "    \n",
    "    # Col count\n",
    "    J = W_dense.shape[1]\n",
    "    \n",
    "    # Extract coordinates of non-zero cost as 1D arrays\n",
    "    elem_coord = np.nonzero(W_dense)\n",
    "    i_coord = elem_coord[0]\n",
    "    j_coord = elem_coord[1]\n",
    "    \n",
    "    elem_N = i_coord.shape[0]\n",
    "    \n",
    "    # Add edge weights one weight element at a time\n",
    "    for idx in range(elem_N):\n",
    "        # Coordinate of current weight element\n",
    "        i = i_coord[idx]\n",
    "        j = j_coord[idx]\n",
    "        \n",
    "        # Weight element position in A matrix\n",
    "        elem_idx = J*i + j\n",
    "        \n",
    "        # Get connected neighbor\n",
    "        neigh_idxs = get_neighbor_nodes(elem_idx, A).tolist()\n",
    "        \n",
    "        # Add weight to neighbor -> weight element\n",
    "        for neigh_idx in neigh_idxs:\n",
    "            A_weights[neigh_idx, elem_idx] = W_dense[i, j]\n",
    "        \n",
    "    return A_weights\n",
    "    \n",
    "    \n",
    "W = np.zeros((I,J))\n",
    "W[0,2] = 10.0\n",
    "W[1,2] = 10.0\n",
    "\n",
    "#plt.imshow(W)\n",
    "#plt.show()\n",
    "\n",
    "A_weights = weighted_adj_matrix(A, W)\n",
    "\n",
    "print(A_weights)"
   ]
  },
  {
   "cell_type": "markdown",
   "metadata": {},
   "source": [
    "### Graph representation\n",
    "\n",
    "Graph is defined by an Adjacency matrix A, and an edge Weight matrix W.\n",
    "Number of nodes corresond to rows in A.\n",
    "\n",
    "Node properties are accessed from a 1D array\n",
    "\n",
    "- d[node_idx] : Distance from starting node\n",
    "- par[node_idx] : Parent idx in shortest path"
   ]
  },
  {
   "cell_type": "code",
   "execution_count": 5,
   "metadata": {},
   "outputs": [],
   "source": [
    "def initialize_single_source(node_N, start_node_idx):\n",
    "    d = np.inf * np.ones(node_N)\n",
    "    par = -1*np.ones(node_N)\n",
    "    \n",
    "    d[start_node_idx] = 0.0\n",
    "    \n",
    "    d = d.tolist()\n",
    "    par = par.tolist()\n",
    "    \n",
    "    return d, par"
   ]
  },
  {
   "cell_type": "code",
   "execution_count": 6,
   "metadata": {},
   "outputs": [],
   "source": [
    "def relax(u, v, W, d, par):\n",
    "    if d[v] > d[u] + W[u,v]:\n",
    "        d[v] = d[u] + W[u,v]\n",
    "        par[v] = u\n",
    "    return d, par"
   ]
  },
  {
   "cell_type": "code",
   "execution_count": 7,
   "metadata": {},
   "outputs": [],
   "source": [
    "def dijkstra(A, A_weights, start_node_idx):\n",
    "    node_N = A.shape[0]\n",
    "    \n",
    "    d, par = initialize_single_source(node_N, start_node_idx)\n",
    "      \n",
    "    S = set()\n",
    "    Q = {}\n",
    "    for idx in range(node_N):\n",
    "        Q[idx] = d[idx]\n",
    "    \n",
    "    while len(Q) > 0:\n",
    "        \n",
    "        u = min(Q, key=Q.get)\n",
    "        Q.pop(u)\n",
    "        S.add(u)\n",
    "        \n",
    "        neigh_set = get_neighbor_nodes(u, A).tolist()\n",
    "        \n",
    "        for v in neigh_set:\n",
    "            if v in S:\n",
    "                continue\n",
    "            d, par = relax(u, v, A_weights, d, par)\n",
    "            Q[v] = d[v]\n",
    "    \n",
    "    return d, par"
   ]
  },
  {
   "cell_type": "code",
   "execution_count": 8,
   "metadata": {},
   "outputs": [
    {
     "data": {
      "image/png": "[encoded data removed]",
      "text/plain": [
       "<Figure size 432x288 with 1 Axes>"
      ]
     },
     "metadata": {
      "needs_background": "light"
     },
     "output_type": "display_data"
    },
    {
     "data": {
      "image/png": "[encoded data removed]",
      "text/plain": [
       "<Figure size 432x288 with 1 Axes>"
      ]
     },
     "metadata": {
      "needs_background": "light"
     },
     "output_type": "display_data"
    }
   ],
   "source": [
    "W = np.ones((I,J))\n",
    "\n",
    "W[:-1, 1] = np.inf\n",
    "\n",
    "A_weights = weighted_adj_matrix(A, W)\n",
    "\n",
    "plt.imshow(W)\n",
    "plt.show()\n",
    "\n",
    "d, par = dijkstra(A, A_weights, 0)\n",
    "\n",
    "d_arr = np.array(d).reshape((I,J))\n",
    "plt.imshow(d_arr)\n",
    "plt.show()"
   ]
  },
  {
   "cell_type": "code",
   "execution_count": 9,
   "metadata": {},
   "outputs": [
    {
     "name": "stdout",
     "output_type": "stream",
     "text": [
      "[0, 30, 60, 90, 120, 150, 180, 210, 240, 270, 300, 330, 360, 390, 420, 450, 480, 510, 540, 570, 571, 572, 573, 574, 575, 576, 577, 578, 579, 580, 581, 582, 583, 584, 585, 586, 587, 588, 589, 590, 591, 592, 593, 594, 595, 596, 597, 598, 599]\n"
     ]
    },
    {
     "data": {
      "image/png": "[encoded data removed]",
      "text/plain": [
       "<Figure size 432x288 with 1 Axes>"
      ]
     },
     "metadata": {
      "needs_background": "light"
     },
     "output_type": "display_data"
    }
   ],
   "source": [
    "goal_idx = I*J-1\n",
    "path = []\n",
    "\n",
    "par_idx = goal_idx\n",
    "while True:\n",
    "    \n",
    "    path.insert(0,  par_idx)\n",
    "    par_idx = par[par_idx]\n",
    "    if par_idx == -1:\n",
    "        break\n",
    "\n",
    "print(path)\n",
    "\n",
    "# Convert vertice idx to (i, j) coordinates\n",
    "i = []\n",
    "j = []\n",
    "for path_vert in path:\n",
    "    i.append( int(path_vert / J) )\n",
    "    j.append( path_vert % J)\n",
    "\n",
    "route = np.zeros((I,J))\n",
    "for idx in range(len(i)):\n",
    "    route[i[idx], j[idx]] = 1.0\n",
    "\n",
    "plt.imshow(route)\n",
    "plt.show()"
   ]
  },
  {
   "cell_type": "code",
   "execution_count": null,
   "metadata": {},
   "outputs": [],
   "source": []
  }
 ],
 "metadata": {
  "kernelspec": {
   "display_name": "Python 3",
   "language": "python",
   "name": "python3"
  },
  "language_info": {
   "codemirror_mode": {
    "name": "ipython",
    "version": 3
   },
   "file_extension": ".py",
   "mimetype": "text/x-python",
   "name": "python",
   "nbconvert_exporter": "python",
   "pygments_lexer": "ipython3",
   "version": "3.7.3"
  }
 },
 "nbformat": 4,
 "nbformat_minor": 4
}
